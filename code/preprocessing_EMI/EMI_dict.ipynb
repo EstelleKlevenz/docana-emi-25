{
 "cells": [
  {
   "cell_type": "markdown",
   "id": "e671b337",
   "metadata": {},
   "source": [
    "# Dictionary Creation and calculation of EMI scores"
   ]
  },
  {
   "cell_type": "markdown",
   "id": "d29399fe",
   "metadata": {},
   "source": [
    "## Reload data"
   ]
  },
  {
   "cell_type": "code",
   "execution_count": 7,
   "id": "59e346f1",
   "metadata": {},
   "outputs": [
    {
     "ename": "FileNotFoundError",
     "evalue": "Directory tldr_cleaned_sample not found",
     "output_type": "error",
     "traceback": [
      "\u001b[1;31m---------------------------------------------------------------------------\u001b[0m",
      "\u001b[1;31mFileNotFoundError\u001b[0m                         Traceback (most recent call last)",
      "Cell \u001b[1;32mIn[7], line 5\u001b[0m\n\u001b[0;32m      2\u001b[0m \u001b[38;5;28;01mimport\u001b[39;00m\u001b[38;5;250m \u001b[39m\u001b[38;5;21;01mdatasets\u001b[39;00m\n\u001b[0;32m      3\u001b[0m \u001b[38;5;28;01mfrom\u001b[39;00m\u001b[38;5;250m \u001b[39m\u001b[38;5;21;01mdatasets\u001b[39;00m\u001b[38;5;250m \u001b[39m\u001b[38;5;28;01mimport\u001b[39;00m load_from_disk\n\u001b[1;32m----> 5\u001b[0m tldr_cleaned_sample \u001b[38;5;241m=\u001b[39m \u001b[43mload_from_disk\u001b[49m\u001b[43m(\u001b[49m\u001b[38;5;124;43m\"\u001b[39;49m\u001b[38;5;124;43mtldr_cleaned_sample\u001b[39;49m\u001b[38;5;124;43m\"\u001b[39;49m\u001b[43m)\u001b[49m\n",
      "File \u001b[1;32mc:\\Users\\Estelle\\miniconda3\\envs\\docana\\lib\\site-packages\\datasets\\load.py:2140\u001b[0m, in \u001b[0;36mload_from_disk\u001b[1;34m(dataset_path, keep_in_memory, storage_options)\u001b[0m\n\u001b[0;32m   2138\u001b[0m fs, \u001b[38;5;241m*\u001b[39m_ \u001b[38;5;241m=\u001b[39m url_to_fs(dataset_path, \u001b[38;5;241m*\u001b[39m\u001b[38;5;241m*\u001b[39m(storage_options \u001b[38;5;129;01mor\u001b[39;00m {}))\n\u001b[0;32m   2139\u001b[0m \u001b[38;5;28;01mif\u001b[39;00m \u001b[38;5;129;01mnot\u001b[39;00m fs\u001b[38;5;241m.\u001b[39mexists(dataset_path):\n\u001b[1;32m-> 2140\u001b[0m     \u001b[38;5;28;01mraise\u001b[39;00m \u001b[38;5;167;01mFileNotFoundError\u001b[39;00m(\u001b[38;5;124mf\u001b[39m\u001b[38;5;124m\"\u001b[39m\u001b[38;5;124mDirectory \u001b[39m\u001b[38;5;132;01m{\u001b[39;00mdataset_path\u001b[38;5;132;01m}\u001b[39;00m\u001b[38;5;124m not found\u001b[39m\u001b[38;5;124m\"\u001b[39m)\n\u001b[0;32m   2141\u001b[0m \u001b[38;5;28;01mif\u001b[39;00m fs\u001b[38;5;241m.\u001b[39misfile(posixpath\u001b[38;5;241m.\u001b[39mjoin(dataset_path, config\u001b[38;5;241m.\u001b[39mDATASET_INFO_FILENAME)) \u001b[38;5;129;01mand\u001b[39;00m fs\u001b[38;5;241m.\u001b[39misfile(\n\u001b[0;32m   2142\u001b[0m     posixpath\u001b[38;5;241m.\u001b[39mjoin(dataset_path, config\u001b[38;5;241m.\u001b[39mDATASET_STATE_JSON_FILENAME)\n\u001b[0;32m   2143\u001b[0m ):\n\u001b[0;32m   2144\u001b[0m     \u001b[38;5;28;01mreturn\u001b[39;00m Dataset\u001b[38;5;241m.\u001b[39mload_from_disk(dataset_path, keep_in_memory\u001b[38;5;241m=\u001b[39mkeep_in_memory, storage_options\u001b[38;5;241m=\u001b[39mstorage_options)\n",
      "\u001b[1;31mFileNotFoundError\u001b[0m: Directory tldr_cleaned_sample not found"
     ]
    }
   ],
   "source": [
    "# reload data from main analysis\n",
    "import datasets\n",
    "from datasets import load_from_disk\n",
    "\n",
    "tldr_cleaned_sample = load_from_disk(\"tldr_cleaned_sample\")"
   ]
  },
  {
   "cell_type": "code",
   "execution_count": 5,
   "id": "de346b9b",
   "metadata": {},
   "outputs": [
    {
     "ename": "NameError",
     "evalue": "name 'tldr_cleaned_sample' is not defined",
     "output_type": "error",
     "traceback": [
      "\u001b[1;31m---------------------------------------------------------------------------\u001b[0m",
      "\u001b[1;31mNameError\u001b[0m                                 Traceback (most recent call last)",
      "Cell \u001b[1;32mIn[5], line 1\u001b[0m\n\u001b[1;32m----> 1\u001b[0m \u001b[43mtldr_cleaned_sample\u001b[49m\n",
      "\u001b[1;31mNameError\u001b[0m: name 'tldr_cleaned_sample' is not defined"
     ]
    }
   ],
   "source": [
    "tldr_cleaned_sample"
   ]
  },
  {
   "cell_type": "code",
   "execution_count": 3,
   "id": "92d754d2",
   "metadata": {},
   "outputs": [
    {
     "data": {
      "text/plain": [
       "615392"
      ]
     },
     "execution_count": 3,
     "metadata": {},
     "output_type": "execute_result"
    }
   ],
   "source": [
    "len(tldr_cleaned_sample)"
   ]
  },
  {
   "cell_type": "markdown",
   "id": "5fa5278b",
   "metadata": {},
   "source": [
    "## Create own Dictionary"
   ]
  },
  {
   "cell_type": "code",
   "execution_count": 2,
   "id": "f241bf98",
   "metadata": {},
   "outputs": [],
   "source": [
    "import pandas as pd\n",
    "import matplotlib.pyplot as plt\n",
    "import numpy as np"
   ]
  },
  {
   "cell_type": "markdown",
   "id": "5d18ae88",
   "metadata": {},
   "source": [
    "## Dictionary work"
   ]
  },
  {
   "cell_type": "markdown",
   "id": "3cd45453",
   "metadata": {},
   "source": [
    "### analysis of original dictionary"
   ]
  },
  {
   "cell_type": "code",
   "execution_count": 2,
   "id": "9988c26e",
   "metadata": {},
   "outputs": [],
   "source": [
    "# evidence and inutition word list from 'Computational analysis of US congressional speeches reveals a shift from evidence to intuition'\n",
    "evidence_list = [\n",
    "    \"accurate\", \"exact\", \"intelligence\", \"precise\", \"search\", \"analyse\", \"examination\",\n",
    "    \"investigate\", \"procedure\", \"show\", \"analysis\", \"examine\", \"investigation\", \"process\",\n",
    "    \"statistics\", \"correct\", \"expert\", \"knowledge\", \"proof\", \"study\", \"correction\", \"explore\",\n",
    "    \"lab\", \"question\", \"trial\", \"data\", \"fact\", \"learn\", \"read\", \"real\", \"dossier\", \"find\",\n",
    "    \"logic\", \"reason\", \"true\", \"education\", \"findings\", \"logical\", \"research\", \"truth\",\n",
    "    \"evidence\", \"information\", \"method\", \"science\", \"truthful\", \"evident\", \"inquiry\",\n",
    "    \"pinpoint\", \"scientific\"\n",
    "]\n",
    "\n",
    "intuition_list = [\n",
    "    \"advice\", \"doubt\", \"mislead\", \"suggestion\", \"belief\", \"fake\", \"mistaken\", \"suspicion\",\n",
    "    \"believe\", \"fake news\", \"mistrust\", \"view\", \"bogus\", \"feeling\", \"opinion\", \"viewpoint\",\n",
    "    \"common sense\", \"genuine\", \"perspective\", \"wrong\", \"deceive\", \"guess\", \"phony\",\n",
    "    \"deception\", \"gut\", \"point of view\", \"dishonest\", \"instinct\", \"propaganda\", \"dishonesty\",\n",
    "    \"intuition\", \"sense\", \"distrust\", \"lie\", \"suggest\"\n",
    "]\n"
   ]
  },
  {
   "cell_type": "code",
   "execution_count": 6,
   "id": "d69d76e6",
   "metadata": {},
   "outputs": [],
   "source": [
    "from collections import Counter\n",
    "\n",
    "# Jede Liste in der Spalte 'clean' in einen String umwandeln\n",
    "flattened_clean = [' '.join(post) for post in tldr_cleaned_sample['clean']]\n",
    "\n",
    "# Dann alle Posts zu einem großen Text zusammenfügen\n",
    "all_text = ' '.join(flattened_clean)\n",
    "\n",
    "# Counter über alle Wörter\n",
    "word_counter = Counter(all_text.split())\n",
    "\n",
    "# Nur Wörter aus intuition_list zählen\n",
    "og_intuition_dict = {word: word_counter[word] for word in intuition_list}\n"
   ]
  },
  {
   "cell_type": "code",
   "execution_count": 7,
   "id": "7fb275d4",
   "metadata": {},
   "outputs": [],
   "source": [
    "og_intuition_sorted = sorted(og_intuition_dict.items(), key=lambda x: x[1], reverse=True)"
   ]
  },
  {
   "cell_type": "code",
   "execution_count": 3,
   "id": "9f063b18",
   "metadata": {},
   "outputs": [],
   "source": [
    "new_colors = plt.get_cmap('tab20c')\n",
    "blue = new_colors(0)\n",
    "orange = new_colors(4)\n",
    "\n",
    "blue = new_colors(2)"
   ]
  },
  {
   "cell_type": "code",
   "execution_count": 4,
   "id": "48393e48",
   "metadata": {},
   "outputs": [
    {
     "ename": "NameError",
     "evalue": "name 'og_intuition_sorted' is not defined",
     "output_type": "error",
     "traceback": [
      "\u001b[1;31m---------------------------------------------------------------------------\u001b[0m",
      "\u001b[1;31mNameError\u001b[0m                                 Traceback (most recent call last)",
      "Cell \u001b[1;32mIn[4], line 2\u001b[0m\n\u001b[0;32m      1\u001b[0m \u001b[38;5;66;03m# Unpack into two lists\u001b[39;00m\n\u001b[1;32m----> 2\u001b[0m int_words, int_counts \u001b[38;5;241m=\u001b[39m \u001b[38;5;28mzip\u001b[39m(\u001b[38;5;241m*\u001b[39m\u001b[43mog_intuition_sorted\u001b[49m)\n\u001b[0;32m      4\u001b[0m \u001b[38;5;66;03m# Plot\u001b[39;00m\n\u001b[0;32m      5\u001b[0m plt\u001b[38;5;241m.\u001b[39mfigure(figsize\u001b[38;5;241m=\u001b[39m(\u001b[38;5;241m10\u001b[39m, \u001b[38;5;241m6\u001b[39m))\n",
      "\u001b[1;31mNameError\u001b[0m: name 'og_intuition_sorted' is not defined"
     ]
    }
   ],
   "source": [
    "# Unpack into two lists\n",
    "int_words, int_counts = zip(*og_intuition_sorted)\n",
    "\n",
    "# Plot\n",
    "plt.figure(figsize=(10, 6))\n",
    "plt.bar(int_words, int_counts, color=blue)\n",
    "plt.xticks(rotation=45, ha='right')\n",
    "plt.title(\"Word Frequencies of the 'Original' Intuition Keywords\")\n",
    "plt.xlabel(\"Words\")\n",
    "plt.ylabel(\"Frequency\")\n",
    "plt.tight_layout()\n",
    "plt.show()"
   ]
  },
  {
   "cell_type": "code",
   "execution_count": 9,
   "id": "636e90d0",
   "metadata": {},
   "outputs": [],
   "source": [
    "# Nur Wörter aus evidence_list zählen\n",
    "og_evidence_dict = {word: word_counter[word] for word in evidence_list}\n"
   ]
  },
  {
   "cell_type": "code",
   "execution_count": 10,
   "id": "36483890",
   "metadata": {},
   "outputs": [],
   "source": [
    "og_evidence_sorted = sorted(og_evidence_dict.items(), key=lambda x: x[1], reverse=True)"
   ]
  },
  {
   "cell_type": "code",
   "execution_count": 11,
   "id": "7e9d6865",
   "metadata": {},
   "outputs": [
    {
     "data": {
      "image/png": "[encoded data removed]",
      "text/plain": [
       "<Figure size 1000x600 with 1 Axes>"
      ]
     },
     "metadata": {},
     "output_type": "display_data"
    }
   ],
   "source": [
    "evi_words, evi_counts = zip(*og_evidence_sorted)\n",
    "\n",
    "# Plot\n",
    "plt.figure(figsize=(10, 6))\n",
    "plt.bar(evi_words, evi_counts, color='skyblue')\n",
    "plt.xticks(rotation=45, ha='right')\n",
    "plt.title(\"Word Frequencies of the 'Original' Evidence Keywords\")\n",
    "plt.xlabel(\"Words\")\n",
    "plt.ylabel(\"Frequency\")\n",
    "plt.tight_layout()\n",
    "plt.show()"
   ]
  },
  {
   "cell_type": "code",
   "execution_count": 12,
   "id": "cf65401a",
   "metadata": {},
   "outputs": [
    {
     "data": {
      "text/plain": [
       "[('find', 153056),\n",
       " ('reason', 101584),\n",
       " ('fact', 96884),\n",
       " ('real', 69135),\n",
       " ('question', 64178),\n",
       " ('read', 57752),\n",
       " ('show', 53281),\n",
       " ('true', 39242),\n",
       " ('information', 27774),\n",
       " ('process', 24649),\n",
       " ('truth', 21291),\n",
       " ('learn', 20881),\n",
       " ('study', 19902),\n",
       " ('data', 12905),\n",
       " ('exact', 12172),\n",
       " ('education', 11369),\n",
       " ('evidence', 11291),\n",
       " ('research', 11138),\n",
       " ('knowledge', 10471),\n",
       " ('correct', 9890),\n",
       " ('science', 8407),\n",
       " ('search', 7361),\n",
       " ('proof', 6147),\n",
       " ('logical', 5523),\n",
       " ('logic', 4807),\n",
       " ('explore', 4220),\n",
       " ('intelligence', 3964),\n",
       " ('lab', 3888),\n",
       " ('method', 3772),\n",
       " ('accurate', 3329),\n",
       " ('trial', 2601),\n",
       " ('scientific', 2584),\n",
       " ('expert', 1861),\n",
       " ('procedure', 1850),\n",
       " ('analysis', 1779),\n",
       " ('statistics', 1565),\n",
       " ('investigation', 1279),\n",
       " ('truthful', 1032),\n",
       " ('evident', 995),\n",
       " ('precise', 863),\n",
       " ('investigate', 807),\n",
       " ('pinpoint', 677),\n",
       " ('findings', 556),\n",
       " ('examine', 544),\n",
       " ('correction', 331),\n",
       " ('examination', 309),\n",
       " ('inquiry', 240),\n",
       " ('analyse', 208),\n",
       " ('dossier', 16)]"
      ]
     },
     "execution_count": 12,
     "metadata": {},
     "output_type": "execute_result"
    }
   ],
   "source": [
    "og_evidence_sorted"
   ]
  },
  {
   "cell_type": "code",
   "execution_count": 13,
   "id": "1555df36",
   "metadata": {},
   "outputs": [],
   "source": [
    "og_evidence_filtered = [(word) for word, freq in og_evidence_sorted if freq > 1000]\n"
   ]
  },
  {
   "cell_type": "code",
   "execution_count": 14,
   "id": "d2fe0d5e",
   "metadata": {},
   "outputs": [
    {
     "data": {
      "text/plain": [
       "['find',\n",
       " 'reason',\n",
       " 'fact',\n",
       " 'real',\n",
       " 'question',\n",
       " 'read',\n",
       " 'show',\n",
       " 'true',\n",
       " 'information',\n",
       " 'process',\n",
       " 'truth',\n",
       " 'learn',\n",
       " 'study',\n",
       " 'data',\n",
       " 'exact',\n",
       " 'education',\n",
       " 'evidence',\n",
       " 'research',\n",
       " 'knowledge',\n",
       " 'correct',\n",
       " 'science',\n",
       " 'search',\n",
       " 'proof',\n",
       " 'logical',\n",
       " 'logic',\n",
       " 'explore',\n",
       " 'intelligence',\n",
       " 'lab',\n",
       " 'method',\n",
       " 'accurate',\n",
       " 'trial',\n",
       " 'scientific',\n",
       " 'expert',\n",
       " 'procedure',\n",
       " 'analysis',\n",
       " 'statistics',\n",
       " 'investigation',\n",
       " 'truthful']"
      ]
     },
     "execution_count": 14,
     "metadata": {},
     "output_type": "execute_result"
    }
   ],
   "source": [
    "og_evidence_filtered"
   ]
  },
  {
   "cell_type": "code",
   "execution_count": 15,
   "id": "b5d10478",
   "metadata": {},
   "outputs": [],
   "source": [
    "# used: those w count >1000\n",
    "# eliminated:\n",
    "    # find: \"I find it to be...\"\n",
    "    # true - too ambiguous\n",
    "og_evidence_filtered.remove('find')\n",
    "og_evidence_filtered.remove('true')\n",
    "# added:\n",
    "    # article\n",
    "    # argument\n",
    "og_evidence_filtered.append('article')\n",
    "og_evidence_filtered.append('argument')"
   ]
  },
  {
   "cell_type": "code",
   "execution_count": 16,
   "id": "738f6442",
   "metadata": {},
   "outputs": [],
   "source": [
    "og_intuition_filtered = [(word) for word, freq in og_intuition_sorted if freq > 1000]"
   ]
  },
  {
   "cell_type": "code",
   "execution_count": 17,
   "id": "4033a4ad",
   "metadata": {},
   "outputs": [
    {
     "data": {
      "text/plain": [
       "['feeling',\n",
       " 'wrong',\n",
       " 'advice',\n",
       " 'believe',\n",
       " 'guess',\n",
       " 'sense',\n",
       " 'lie',\n",
       " 'opinion',\n",
       " 'doubt',\n",
       " 'perspective',\n",
       " 'view',\n",
       " 'suggest',\n",
       " 'fake',\n",
       " 'genuine',\n",
       " 'gut',\n",
       " 'belief',\n",
       " 'suggestion',\n",
       " 'suspicion',\n",
       " 'instinct',\n",
       " 'dishonest',\n",
       " 'propaganda',\n",
       " 'distrust',\n",
       " 'mistaken']"
      ]
     },
     "execution_count": 17,
     "metadata": {},
     "output_type": "execute_result"
    }
   ],
   "source": [
    "og_intuition_filtered"
   ]
  },
  {
   "cell_type": "code",
   "execution_count": 18,
   "id": "bfb4f3e3",
   "metadata": {},
   "outputs": [],
   "source": [
    "og_intuition_filtered.remove('wrong')"
   ]
  },
  {
   "cell_type": "markdown",
   "id": "3a872c61",
   "metadata": {},
   "source": [
    "### create own dictionary"
   ]
  },
  {
   "cell_type": "markdown",
   "id": "88368d8c",
   "metadata": {},
   "source": [
    "#### start from original dictionary for initial keywords"
   ]
  },
  {
   "cell_type": "code",
   "execution_count": 19,
   "id": "17826077",
   "metadata": {},
   "outputs": [],
   "source": [
    "own_evidence_seeds = og_evidence_filtered\n",
    "\n",
    "own_intuition_seeds = og_intuition_filtered"
   ]
  },
  {
   "cell_type": "markdown",
   "id": "0e21f830",
   "metadata": {},
   "source": [
    "#### create fasttext embeddings"
   ]
  },
  {
   "cell_type": "code",
   "execution_count": 20,
   "id": "f0117014",
   "metadata": {},
   "outputs": [
    {
     "name": "stdout",
     "output_type": "stream",
     "text": [
      "Requirement already satisfied: fasttext-wheel in c:\\users\\estelle\\miniconda3\\envs\\docana\\lib\\site-packages (0.9.2)\n",
      "Requirement already satisfied: pybind11>=2.2 in c:\\users\\estelle\\miniconda3\\envs\\docana\\lib\\site-packages (from fasttext-wheel) (2.13.6)\n",
      "Requirement already satisfied: setuptools>=0.7.0 in c:\\users\\estelle\\miniconda3\\envs\\docana\\lib\\site-packages (from fasttext-wheel) (78.1.1)\n",
      "Requirement already satisfied: numpy in c:\\users\\estelle\\miniconda3\\envs\\docana\\lib\\site-packages (from fasttext-wheel) (1.26.4)\n",
      "Note: you may need to restart the kernel to use updated packages.\n",
      "Requirement already satisfied: scikit-learn in c:\\users\\estelle\\miniconda3\\envs\\docana\\lib\\site-packages (1.6.1)\n",
      "Requirement already satisfied: numpy>=1.19.5 in c:\\users\\estelle\\miniconda3\\envs\\docana\\lib\\site-packages (from scikit-learn) (1.26.4)\n",
      "Requirement already satisfied: scipy>=1.6.0 in c:\\users\\estelle\\miniconda3\\envs\\docana\\lib\\site-packages (from scikit-learn) (1.11.4)\n",
      "Requirement already satisfied: joblib>=1.2.0 in c:\\users\\estelle\\miniconda3\\envs\\docana\\lib\\site-packages (from scikit-learn) (1.5.0)\n",
      "Requirement already satisfied: threadpoolctl>=3.1.0 in c:\\users\\estelle\\miniconda3\\envs\\docana\\lib\\site-packages (from scikit-learn) (3.6.0)\n",
      "Note: you may need to restart the kernel to use updated packages.\n"
     ]
    }
   ],
   "source": [
    "%pip install fasttext-wheel\n",
    "%pip install scikit-learn"
   ]
  },
  {
   "cell_type": "code",
   "execution_count": 21,
   "id": "95b684bb",
   "metadata": {},
   "outputs": [],
   "source": [
    "# fastText library\n",
    "# Using the fastText embeddings, we expanded the seed words to include words that have a cosine similarity score above 0.75.\n",
    "import fasttext\n",
    "import fasttext.util\n",
    "from gensim.models import KeyedVectors\n",
    "from sklearn.metrics.pairwise import cosine_similarity\n",
    "import numpy as np"
   ]
  },
  {
   "cell_type": "code",
   "execution_count": 22,
   "id": "1782029d",
   "metadata": {},
   "outputs": [
    {
     "name": "stderr",
     "output_type": "stream",
     "text": [
      "Warning : `load_model` does not return WordVectorModel or SupervisedModel any more, but a `FastText` object which is very similar.\n"
     ]
    }
   ],
   "source": [
    "# Load pre-trained fastText word vectors (e.g., English)\n",
    "fasttext.util.download_model('en', if_exists='ignore')  # en for English\n",
    "ft_model = fasttext.load_model('cc.en.300.bin')\n",
    "\n",
    "# Convert to Gensim KeyedVectors interface for easy similarity search\n",
    "kv_model = KeyedVectors(vector_size=300)\n",
    "kv_model.add_vectors(\n",
    "    list(ft_model.words),\n",
    "    np.vstack([ft_model.get_word_vector(w) for w in ft_model.words])\n",
    ")"
   ]
  },
  {
   "cell_type": "code",
   "execution_count": 23,
   "id": "80b4948f",
   "metadata": {},
   "outputs": [],
   "source": [
    "# Function to get similar words with a cosine threshold\n",
    "def expand_keywords(keywords, model, threshold=0.75, topn=10000):\n",
    "    expanded = {}\n",
    "    for word in keywords:\n",
    "        if word not in model:\n",
    "            continue\n",
    "        similar = model.similar_by_vector(model[word], topn=topn)\n",
    "        filtered = [(w, sim) for w, sim in similar if sim >= threshold]\n",
    "        expanded[word] = filtered\n",
    "    return expanded"
   ]
  },
  {
   "cell_type": "code",
   "execution_count": 24,
   "id": "81f171cd",
   "metadata": {},
   "outputs": [
    {
     "name": "stdout",
     "output_type": "stream",
     "text": [
      "\n",
      "Keyword: reason\n",
      "  reason (1.00)\n",
      "  reasons (0.77)\n",
      "\n",
      "Keyword: fact\n",
      "  fact (1.00)\n",
      "\n",
      "Keyword: real\n",
      "  real (1.00)\n",
      "\n",
      "Keyword: question\n",
      "  question (1.00)\n",
      "  answer (0.79)\n",
      "  quesiton (0.79)\n",
      "  quesion (0.79)\n",
      "  questions (0.76)\n",
      "  question- (0.75)\n",
      "\n",
      "Keyword: read\n",
      "  read (1.00)\n",
      "  re-read (0.78)\n",
      "  reread (0.75)\n",
      "\n",
      "Keyword: show\n",
      "  show (1.00)\n",
      "  shows (0.77)\n",
      "\n",
      "Keyword: information\n",
      "  information (1.00)\n",
      "\n",
      "Keyword: process\n",
      "  process (1.00)\n",
      "\n",
      "Keyword: truth\n",
      "  truth (1.00)\n",
      "  truth.But (0.78)\n",
      "  truths (0.76)\n",
      "\n",
      "Keyword: learn\n",
      "  learn (1.00)\n",
      "\n",
      "Keyword: study\n",
      "  study (1.00)\n",
      "\n",
      "Keyword: data\n",
      "  data (1.00)\n",
      "\n",
      "Keyword: exact\n",
      "  exact (1.00)\n",
      "\n",
      "Keyword: education\n",
      "  education (1.00)\n",
      "  educaiton (0.77)\n",
      "  eduation (0.76)\n",
      "  eduction (0.75)\n",
      "\n",
      "Keyword: evidence\n",
      "  evidence (1.00)\n",
      "  evidences (0.79)\n",
      "\n",
      "Keyword: research\n",
      "  research (1.00)\n",
      "  reseach (0.80)\n",
      "  reserach (0.76)\n",
      "\n",
      "Keyword: knowledge\n",
      "  knowledge (1.00)\n",
      "  knowlege (0.81)\n",
      "  knowldege (0.76)\n",
      "  knoweldge (0.75)\n",
      "\n",
      "Keyword: correct\n",
      "  correct (1.00)\n",
      "  corrrect (0.79)\n",
      "  incorrect (0.77)\n",
      "\n",
      "Keyword: science\n",
      "  science (1.00)\n",
      "  sciene (0.75)\n",
      "\n",
      "Keyword: search\n",
      "  search (1.00)\n",
      "  seach (0.76)\n",
      "\n",
      "Keyword: proof\n",
      "  proof (1.00)\n",
      "\n",
      "Keyword: logical\n",
      "  logical (1.00)\n",
      "\n",
      "Keyword: logic\n",
      "  logic (1.00)\n",
      "\n",
      "Keyword: explore\n",
      "  explore (1.00)\n",
      "  exploring (0.78)\n",
      "\n",
      "Keyword: intelligence\n",
      "  intelligence (1.00)\n",
      "  inteligence (0.76)\n",
      "  intelligence.The (0.76)\n",
      "\n",
      "Keyword: lab\n",
      "  lab (1.00)\n",
      "  labs (0.83)\n",
      "  laboratory (0.80)\n",
      "  lab. (0.75)\n",
      "\n",
      "Keyword: method\n",
      "  method (1.00)\n",
      "  methods (0.77)\n",
      "\n",
      "Keyword: accurate\n",
      "  accurate (1.00)\n",
      "  acurate (0.77)\n",
      "\n",
      "Keyword: trial\n",
      "  trial (1.00)\n",
      "  trials (0.75)\n",
      "\n",
      "Keyword: scientific\n",
      "  scientific (1.00)\n",
      "  scientifc (0.77)\n",
      "\n",
      "Keyword: expert\n",
      "  expert (1.00)\n",
      "  experts (0.75)\n",
      "\n",
      "Keyword: procedure\n",
      "  procedure (1.00)\n",
      "  procedures (0.77)\n",
      "  proceedure (0.76)\n",
      "  procedure.The (0.76)\n",
      "  procedure.This (0.75)\n",
      "\n",
      "Keyword: analysis\n",
      "  analysis (1.00)\n",
      "  analyses (0.84)\n",
      "  analyis (0.79)\n",
      "  anaylsis (0.75)\n",
      "\n",
      "Keyword: statistics\n",
      "  statistics (1.00)\n",
      "\n",
      "Keyword: investigation\n",
      "  investigation (1.00)\n",
      "  investigations (0.86)\n",
      "  investigation.The (0.76)\n",
      "\n",
      "Keyword: truthful\n",
      "  truthful (1.00)\n",
      "  honest (0.75)\n",
      "\n",
      "Keyword: article\n",
      "  article (1.00)\n",
      "  aricle (0.77)\n",
      "  artice (0.77)\n",
      "  aticle (0.76)\n",
      "\n",
      "Keyword: argument\n",
      "  argument (1.00)\n",
      "  arguments (0.85)\n",
      "  counter-argument (0.80)\n",
      "  arguement (0.79)\n",
      "  arugment (0.77)\n",
      "  argument.The (0.76)\n",
      "  agrument (0.75)\n",
      "  argument.This (0.75)\n"
     ]
    }
   ],
   "source": [
    "# Run expansion\n",
    "evidence_expand_result = expand_keywords(own_evidence_seeds, kv_model)\n",
    "\n",
    "# Print\n",
    "evidence_expand_set = set()\n",
    "for kw, sims in evidence_expand_result.items():\n",
    "    print(f\"\\nKeyword: {kw}\")\n",
    "    for w, score in sims:\n",
    "        evidence_expand_set.add(w)\n",
    "        print(f\"  {w} ({score:.2f})\")"
   ]
  },
  {
   "cell_type": "code",
   "execution_count": 25,
   "id": "2de414ca",
   "metadata": {},
   "outputs": [
    {
     "name": "stdout",
     "output_type": "stream",
     "text": [
      "\n",
      "Keyword: feeling\n",
      "  feeling (1.00)\n",
      "\n",
      "Keyword: advice\n",
      "  advice (1.00)\n",
      "\n",
      "Keyword: believe\n",
      "  believe (1.00)\n",
      "\n",
      "Keyword: guess\n",
      "  guess (1.00)\n",
      "  suppose (0.83)\n",
      "  dunno (0.77)\n",
      "  think (0.76)\n",
      "\n",
      "Keyword: sense\n",
      "  sense (1.00)\n",
      "\n",
      "Keyword: lie\n",
      "  lie (1.00)\n",
      "\n",
      "Keyword: opinion\n",
      "  opinion (1.00)\n",
      "  opinon (0.84)\n",
      "  opionion (0.80)\n",
      "  opnion (0.79)\n",
      "  opinions (0.75)\n",
      "\n",
      "Keyword: doubt\n",
      "  doubt (1.00)\n",
      "\n",
      "Keyword: perspective\n",
      "  perspective (1.00)\n",
      "  persepctive (0.78)\n",
      "  viewpoint (0.77)\n",
      "  perpective (0.77)\n",
      "  persepective (0.76)\n",
      "\n",
      "Keyword: view\n",
      "  view (1.00)\n",
      "\n",
      "Keyword: suggest\n",
      "  suggest (1.00)\n",
      "\n",
      "Keyword: fake\n",
      "  fake (1.00)\n",
      "  phony (0.77)\n",
      "\n",
      "Keyword: genuine\n",
      "  genuine (1.00)\n",
      "  geniune (0.82)\n",
      "\n",
      "Keyword: gut\n",
      "  gut (1.00)\n",
      "\n",
      "Keyword: belief\n",
      "  belief (1.00)\n",
      "\n",
      "Keyword: suggestion\n",
      "  suggestion (1.00)\n",
      "\n",
      "Keyword: suspicion\n",
      "  suspicion (1.00)\n",
      "\n",
      "Keyword: instinct\n",
      "  instinct (1.00)\n",
      "  instincts (0.85)\n",
      "  instict (0.80)\n",
      "  instinctual (0.79)\n",
      "  instinctive (0.77)\n",
      "\n",
      "Keyword: dishonest\n",
      "  dishonest (1.00)\n",
      "  deceitful (0.78)\n",
      "  untruthful (0.76)\n",
      "\n",
      "Keyword: propaganda\n",
      "  propaganda (1.00)\n",
      "  propoganda (0.88)\n",
      "  propagandistic (0.79)\n",
      "  counter-propaganda (0.79)\n",
      "  disinformation (0.76)\n",
      "  propganda (0.76)\n",
      "  propagandist (0.76)\n",
      "  agitprop (0.75)\n",
      "  propaganda.The (0.75)\n",
      "\n",
      "Keyword: distrust\n",
      "  distrust (1.00)\n",
      "  mistrust (0.95)\n",
      "\n",
      "Keyword: mistaken\n",
      "  mistaken (1.00)\n"
     ]
    }
   ],
   "source": [
    "# Run expansion\n",
    "intuition_expand_result = expand_keywords(own_intuition_seeds, kv_model)\n",
    "\n",
    "# Print\n",
    "intuition_expand_set = set()\n",
    "for kw, sims in intuition_expand_result.items():\n",
    "    print(f\"\\nKeyword: {kw}\")\n",
    "    for w, score in sims:\n",
    "        intuition_expand_set.add(w)\n",
    "        print(f\"  {w} ({score:.2f})\")\n"
   ]
  },
  {
   "cell_type": "markdown",
   "id": "0f205314",
   "metadata": {},
   "source": [
    "#### clean expanded sets"
   ]
  },
  {
   "cell_type": "code",
   "execution_count": 26,
   "id": "361b6ad9",
   "metadata": {},
   "outputs": [
    {
     "data": {
      "text/plain": [
       "{'accurate',\n",
       " 'acurate',\n",
       " 'agrument',\n",
       " 'analyis',\n",
       " 'analyses',\n",
       " 'analysis',\n",
       " 'anaylsis',\n",
       " 'answer',\n",
       " 'arguement',\n",
       " 'argument',\n",
       " 'argument.The',\n",
       " 'argument.This',\n",
       " 'arguments',\n",
       " 'aricle',\n",
       " 'artice',\n",
       " 'article',\n",
       " 'arugment',\n",
       " 'aticle',\n",
       " 'correct',\n",
       " 'corrrect',\n",
       " 'counter-argument',\n",
       " 'data',\n",
       " 'eduation',\n",
       " 'educaiton',\n",
       " 'education',\n",
       " 'eduction',\n",
       " 'evidence',\n",
       " 'evidences',\n",
       " 'exact',\n",
       " 'expert',\n",
       " 'experts',\n",
       " 'explore',\n",
       " 'exploring',\n",
       " 'fact',\n",
       " 'honest',\n",
       " 'incorrect',\n",
       " 'information',\n",
       " 'inteligence',\n",
       " 'intelligence',\n",
       " 'intelligence.The',\n",
       " 'investigation',\n",
       " 'investigation.The',\n",
       " 'investigations',\n",
       " 'knoweldge',\n",
       " 'knowldege',\n",
       " 'knowledge',\n",
       " 'knowlege',\n",
       " 'lab',\n",
       " 'lab.',\n",
       " 'laboratory',\n",
       " 'labs',\n",
       " 'learn',\n",
       " 'logic',\n",
       " 'logical',\n",
       " 'method',\n",
       " 'methods',\n",
       " 'procedure',\n",
       " 'procedure.The',\n",
       " 'procedure.This',\n",
       " 'procedures',\n",
       " 'proceedure',\n",
       " 'process',\n",
       " 'proof',\n",
       " 'quesion',\n",
       " 'quesiton',\n",
       " 'question',\n",
       " 'question-',\n",
       " 'questions',\n",
       " 're-read',\n",
       " 'read',\n",
       " 'real',\n",
       " 'reason',\n",
       " 'reasons',\n",
       " 'reread',\n",
       " 'reseach',\n",
       " 'research',\n",
       " 'reserach',\n",
       " 'science',\n",
       " 'sciene',\n",
       " 'scientifc',\n",
       " 'scientific',\n",
       " 'seach',\n",
       " 'search',\n",
       " 'show',\n",
       " 'shows',\n",
       " 'statistics',\n",
       " 'study',\n",
       " 'trial',\n",
       " 'trials',\n",
       " 'truth',\n",
       " 'truth.But',\n",
       " 'truthful',\n",
       " 'truths'}"
      ]
     },
     "execution_count": 26,
     "metadata": {},
     "output_type": "execute_result"
    }
   ],
   "source": [
    "evidence_expand_set"
   ]
  },
  {
   "cell_type": "code",
   "execution_count": 27,
   "id": "3a2702ba",
   "metadata": {},
   "outputs": [],
   "source": [
    "evidence_expand_set_clean = {\n",
    " 'accurate',\n",
    " #'acurate',\n",
    " #'agrument',\n",
    " #'analyis',\n",
    " #'analyses',\n",
    " 'analysis',\n",
    " #'anaylsis',\n",
    " 'answer',\n",
    " #'arguement',\n",
    " 'argument',\n",
    " #'argument.The',\n",
    " #'argument.This',\n",
    " #'arguments',\n",
    " #'aricle',\n",
    " #'artice',\n",
    " 'article',\n",
    " #'arugment',\n",
    " #'aticle',\n",
    " 'correct',\n",
    " #'corrrect',\n",
    " 'counter-argument',\n",
    " 'data',\n",
    " #'eduation',\n",
    " #'educaiton',\n",
    " 'education',\n",
    " #'eduction',\n",
    " 'evidence',\n",
    " #'evidences',\n",
    " 'exact',\n",
    " 'expert',\n",
    " #'experts',\n",
    " 'explore',\n",
    " #'exploring',\n",
    " 'fact',\n",
    " 'honest',\n",
    " 'incorrect',\n",
    " 'information',\n",
    " #'inteligence',\n",
    " 'intelligence',\n",
    " #'intelligence.The',\n",
    " 'investigation',\n",
    " #'investigation.The',\n",
    " #'investigations',\n",
    " #'knoweldge',\n",
    " #'knowldege',\n",
    " 'knowledge',\n",
    " #'knowlege',\n",
    " 'lab',\n",
    " #'lab.',\n",
    " #'laboratory',\n",
    " #'labs',\n",
    " 'learn',\n",
    " 'logic',\n",
    " #'logical',\n",
    " 'method',\n",
    " #'methods',\n",
    " 'procedure',\n",
    " #'procedure.The',\n",
    " #'procedure.This',\n",
    " #'procedures',\n",
    " #'proceedure',\n",
    " 'process',\n",
    " 'proof',\n",
    " #'quesion',\n",
    " #'quesiton',\n",
    " 'question',\n",
    " #'question-',\n",
    " #'questions',\n",
    " #'re-read',\n",
    " 'read',\n",
    " 'real',\n",
    " 'reason',\n",
    " #'reasons',\n",
    " #'reread',\n",
    " #'reseach',\n",
    " 'research',\n",
    " #'reserach',\n",
    " 'science',\n",
    " #'sciene',\n",
    " #'scientifc',\n",
    " 'scientific',\n",
    " #'seach',\n",
    " 'search',\n",
    " 'show',\n",
    " #'shows',\n",
    " 'statistics',\n",
    " 'study',\n",
    " 'trial',\n",
    " #'trials',\n",
    " 'truth',\n",
    " #'truth.But',\n",
    " #'truthful',\n",
    " #'truths'\n",
    " }"
   ]
  },
  {
   "cell_type": "code",
   "execution_count": 28,
   "id": "530237ae",
   "metadata": {},
   "outputs": [
    {
     "data": {
      "text/plain": [
       "{'advice',\n",
       " 'agitprop',\n",
       " 'belief',\n",
       " 'believe',\n",
       " 'counter-propaganda',\n",
       " 'deceitful',\n",
       " 'dishonest',\n",
       " 'disinformation',\n",
       " 'distrust',\n",
       " 'doubt',\n",
       " 'dunno',\n",
       " 'fake',\n",
       " 'feeling',\n",
       " 'geniune',\n",
       " 'genuine',\n",
       " 'guess',\n",
       " 'gut',\n",
       " 'instict',\n",
       " 'instinct',\n",
       " 'instinctive',\n",
       " 'instincts',\n",
       " 'instinctual',\n",
       " 'lie',\n",
       " 'mistaken',\n",
       " 'mistrust',\n",
       " 'opinion',\n",
       " 'opinions',\n",
       " 'opinon',\n",
       " 'opionion',\n",
       " 'opnion',\n",
       " 'perpective',\n",
       " 'persepctive',\n",
       " 'persepective',\n",
       " 'perspective',\n",
       " 'phony',\n",
       " 'propaganda',\n",
       " 'propaganda.The',\n",
       " 'propagandist',\n",
       " 'propagandistic',\n",
       " 'propganda',\n",
       " 'propoganda',\n",
       " 'sense',\n",
       " 'suggest',\n",
       " 'suggestion',\n",
       " 'suppose',\n",
       " 'suspicion',\n",
       " 'think',\n",
       " 'untruthful',\n",
       " 'view',\n",
       " 'viewpoint'}"
      ]
     },
     "execution_count": 28,
     "metadata": {},
     "output_type": "execute_result"
    }
   ],
   "source": [
    "intuition_expand_set"
   ]
  },
  {
   "cell_type": "code",
   "execution_count": 29,
   "id": "7063f50e",
   "metadata": {},
   "outputs": [],
   "source": [
    "# remove misspellings\n",
    "intuition_expand_set_clean = {\n",
    " 'advice',\n",
    " #'agitprop',\n",
    " #'belief',\n",
    " 'believe',\n",
    " #'counter-propaganda',\n",
    " 'deceitful',\n",
    " 'dishonest',\n",
    " 'disinformation',\n",
    " 'distrust',\n",
    " 'doubt',\n",
    " 'dunno',\n",
    " 'fake',\n",
    " 'feeling',\n",
    " #'geniune',\n",
    " 'genuine',\n",
    " 'guess',\n",
    " 'gut',\n",
    " #'instict',\n",
    " 'instinct',\n",
    " #'instinctive',\n",
    " #'instincts',\n",
    " #'instinctual',\n",
    " 'lie',\n",
    " 'mistaken',\n",
    " 'mistrust',\n",
    " 'opinion',\n",
    " #'opinions',\n",
    " #'opinon',\n",
    " #'opionion',\n",
    " #'opnion',\n",
    " #'perpective',\n",
    " #'persepctive',\n",
    " #'persepective',\n",
    " 'perspective',\n",
    " 'phony',\n",
    " 'propaganda',\n",
    " #'propaganda.The',\n",
    " #'propagandist',\n",
    " #'propagandistic',\n",
    " #'propganda',\n",
    " #'propoganda',\n",
    " 'sense',\n",
    " 'suggest',\n",
    " #'suggestion',\n",
    " 'suppose',\n",
    " 'suspicion',\n",
    " 'think',\n",
    " 'untruthful',\n",
    " 'view',\n",
    " 'viewpoint'}\n"
   ]
  },
  {
   "cell_type": "markdown",
   "id": "1b904efd",
   "metadata": {},
   "source": [
    "#### combine seed keywords with expansion"
   ]
  },
  {
   "cell_type": "code",
   "execution_count": 30,
   "id": "3ca47ee9",
   "metadata": {},
   "outputs": [
    {
     "data": {
      "text/plain": [
       "['accurate',\n",
       " 'analysis',\n",
       " 'answer',\n",
       " 'argument',\n",
       " 'article',\n",
       " 'correct',\n",
       " 'counter-argument',\n",
       " 'data',\n",
       " 'education',\n",
       " 'evidence',\n",
       " 'exact',\n",
       " 'expert',\n",
       " 'explore',\n",
       " 'fact',\n",
       " 'honest',\n",
       " 'incorrect',\n",
       " 'information',\n",
       " 'intelligence',\n",
       " 'investigation',\n",
       " 'knowledge',\n",
       " 'lab',\n",
       " 'learn',\n",
       " 'logic',\n",
       " 'logical',\n",
       " 'method',\n",
       " 'procedure',\n",
       " 'process',\n",
       " 'proof',\n",
       " 'question',\n",
       " 'read',\n",
       " 'real',\n",
       " 'reason',\n",
       " 'research',\n",
       " 'science',\n",
       " 'scientific',\n",
       " 'search',\n",
       " 'show',\n",
       " 'statistics',\n",
       " 'study',\n",
       " 'trial',\n",
       " 'truth',\n",
       " 'truthful']"
      ]
     },
     "execution_count": 30,
     "metadata": {},
     "output_type": "execute_result"
    }
   ],
   "source": [
    "evidence_merge_list = list(set(own_evidence_seeds + list(evidence_expand_set_clean)))\n",
    "evidence_merge_list.sort()\n",
    "evidence_merge_list"
   ]
  },
  {
   "cell_type": "code",
   "execution_count": 31,
   "id": "7f4255da",
   "metadata": {},
   "outputs": [
    {
     "data": {
      "text/plain": [
       "['advice',\n",
       " 'belief',\n",
       " 'believe',\n",
       " 'deceitful',\n",
       " 'dishonest',\n",
       " 'disinformation',\n",
       " 'distrust',\n",
       " 'doubt',\n",
       " 'dunno',\n",
       " 'fake',\n",
       " 'feeling',\n",
       " 'genuine',\n",
       " 'guess',\n",
       " 'gut',\n",
       " 'instinct',\n",
       " 'lie',\n",
       " 'mistaken',\n",
       " 'mistrust',\n",
       " 'opinion',\n",
       " 'perspective',\n",
       " 'phony',\n",
       " 'propaganda',\n",
       " 'sense',\n",
       " 'suggest',\n",
       " 'suggestion',\n",
       " 'suppose',\n",
       " 'suspicion',\n",
       " 'think',\n",
       " 'untruthful',\n",
       " 'view',\n",
       " 'viewpoint']"
      ]
     },
     "execution_count": 31,
     "metadata": {},
     "output_type": "execute_result"
    }
   ],
   "source": [
    "# combine original and expanded\n",
    "intuition_merge_list = list(set(own_intuition_seeds +list(intuition_expand_set_clean)))\n",
    "intuition_merge_list.sort()\n",
    "intuition_merge_list"
   ]
  },
  {
   "cell_type": "markdown",
   "id": "3218d388",
   "metadata": {},
   "source": [
    "#### Colexification"
   ]
  },
  {
   "cell_type": "code",
   "execution_count": 32,
   "id": "f6034d3d",
   "metadata": {},
   "outputs": [],
   "source": [
    "# shortcut: use the web interface on https://clics.clld.org/parameters to get subgraphs for each concept and note neighbors\n",
    "evidence_colexifications = {\n",
    "    'accurate': None,\n",
    "    'analysis': None,\n",
    "    'answer': ['obey','give back', 'come back', 'pay', 'ask', 'speak', 'call by name', 'say', 'tell', 'admit'],\n",
    "    'argument': None,\n",
    "    'article': None,\n",
    "    'correct': ['smooth','straight','flat','yes','good','healthy','beautiful','right','good','truth','clear','certain','holy','true','faithful'],\n",
    "    'counter-argument': None,\n",
    "    'data': None,\n",
    "    'education': None,\n",
    "    'evidence': None,\n",
    "    'exact': None,\n",
    "    'expert':None,\n",
    "    'explore':None,\n",
    "    'fact': None,\n",
    "    'honest':None,\n",
    "    'incorrect': None,\n",
    "    'information': None,\n",
    "    'intelligence':None,\n",
    "    'investigation':None,\n",
    "    'knowledge': None,\n",
    "    'lab':None,\n",
    "    'learn': ['teach', 'show', 'study', 'read', 'imitate', 'know', 'understand'],\n",
    "    'logic':None,\n",
    "    'logical':None,\n",
    "    'method': None,\n",
    "    'procedure':None,\n",
    "    'process': None,\n",
    "    'proof':None,\n",
    "    'question': None,\n",
    "    'read': ['teach','study','look','call','sing','say', 'count', 'calculate', 'weigh', 'learn'],\n",
    "    'real': None,\n",
    "    'reason': None,\n",
    "    'research': None,\n",
    "    'science': None,\n",
    "    'scientific':None,\n",
    "    'search': None,\n",
    "    'show': ['announce','explain','visible', 'seem', 'teach', 'learn'],\n",
    "    'statistics':None,\n",
    "    'study': ['teach', 'learn','read','imitate', 'know', 'understand'],\n",
    "    'trial':None,\n",
    "    'truth': ['true','correct'],\n",
    "    'truthful':None,\n",
    "}"
   ]
  },
  {
   "cell_type": "code",
   "execution_count": 33,
   "id": "a9d3ca82",
   "metadata": {},
   "outputs": [],
   "source": [
    "# shortcut: use the web interface on https://clics.clld.org/parameters to get subgraphs for each concept and note neighbors\n",
    "intuition_colexifications = {\n",
    "    'advice': None,\n",
    "    'belief':None,\n",
    "    'believe': ['anxiety', 'suspect', 'conceive', 'guess', 'feel', 'know', 'see', 'seem', 'say', 'count', 'want', 'remember', 'think', 'idea'],\n",
    "    #'deceitful',\n",
    "    'deceit':['betray','perjury','wrong','lie'],\n",
    "    'dishonest':None,\n",
    "    'disinformation':None,\n",
    "    'distrust':None,\n",
    "    'doubt': ['suspect'],\n",
    "    'dunno': None,\n",
    "    'fake': None,\n",
    "    'feeling': None,\n",
    "    'genuine':None,\n",
    "    'guess': ['feel', 'remember', 'think', 'seem', 'suspect', 'adjudicate', 'measure', 'know'],\n",
    "    'gut':['belly'],\n",
    "    'instinct':None,\n",
    "    'lie': ['mislead', 'deceit', 'perjury', 'sleep'],\n",
    "    'mistaken':None,\n",
    "    'mistrust':None,\n",
    "    'opinion': None,\n",
    "    'perspective': None,\n",
    "    'phony': None,\n",
    "    'propaganda':None,\n",
    "    'sense': None,\n",
    "    'suggest': None,\n",
    "    'suggestion':None,\n",
    "    'suppose': None,\n",
    "    'suspicion':None,\n",
    "    'think': ['seem', 'suspect', 'want', 'idea', 'thought', 'mind', 'conceive', 'remember', 'count', 'know', 'see', 'believe', 'seem', 'guess'],\n",
    "    'untruthful':None,\n",
    "    'view': None,\n",
    "    'viewpoint': None}"
   ]
  },
  {
   "cell_type": "markdown",
   "id": "eaae50bf",
   "metadata": {},
   "source": [
    "#### Combine and reduce colexifications"
   ]
  },
  {
   "cell_type": "code",
   "execution_count": 34,
   "id": "13de13de",
   "metadata": {},
   "outputs": [],
   "source": [
    "evidence_set = set()\n",
    "for key,value in evidence_colexifications.items():\n",
    "    if value != None:\n",
    "       value.append(key)\n",
    "       evidence_set = evidence_set.union(set(value))\n",
    "    else: \n",
    "        evidence_set = evidence_set.union(set({key}))"
   ]
  },
  {
   "cell_type": "code",
   "execution_count": 35,
   "id": "39eba802",
   "metadata": {},
   "outputs": [
    {
     "data": {
      "text/plain": [
       "79"
      ]
     },
     "execution_count": 35,
     "metadata": {},
     "output_type": "execute_result"
    }
   ],
   "source": [
    "len(evidence_set)"
   ]
  },
  {
   "cell_type": "code",
   "execution_count": 36,
   "id": "1122cded",
   "metadata": {},
   "outputs": [],
   "source": [
    "intuition_set = set()\n",
    "for key,value in intuition_colexifications.items():\n",
    "    if value != None:\n",
    "       value.append(key)\n",
    "       intuition_set = intuition_set.union(set(value))\n",
    "    else: \n",
    "        intuition_set = intuition_set.union(set({key}))"
   ]
  },
  {
   "cell_type": "code",
   "execution_count": 37,
   "id": "8e04ffed",
   "metadata": {},
   "outputs": [
    {
     "data": {
      "text/plain": [
       "53"
      ]
     },
     "execution_count": 37,
     "metadata": {},
     "output_type": "execute_result"
    }
   ],
   "source": [
    "len(intuition_set)"
   ]
  },
  {
   "cell_type": "code",
   "execution_count": 38,
   "id": "6e0961d2",
   "metadata": {},
   "outputs": [],
   "source": [
    "# remove intersection\n",
    "intersection_set = evidence_set.intersection(intuition_set)\n",
    "evidence_set = evidence_set - intersection_set\n",
    "intuition_set = intuition_set - intersection_set"
   ]
  },
  {
   "cell_type": "code",
   "execution_count": 39,
   "id": "74715688",
   "metadata": {},
   "outputs": [
    {
     "data": {
      "text/plain": [
       "{'accurate',\n",
       " 'admit',\n",
       " 'analysis',\n",
       " 'announce',\n",
       " 'answer',\n",
       " 'argument',\n",
       " 'article',\n",
       " 'ask',\n",
       " 'beautiful',\n",
       " 'calculate',\n",
       " 'call',\n",
       " 'call by name',\n",
       " 'certain',\n",
       " 'clear',\n",
       " 'come back',\n",
       " 'correct',\n",
       " 'counter-argument',\n",
       " 'data',\n",
       " 'education',\n",
       " 'evidence',\n",
       " 'exact',\n",
       " 'expert',\n",
       " 'explain',\n",
       " 'explore',\n",
       " 'fact',\n",
       " 'faithful',\n",
       " 'flat',\n",
       " 'give back',\n",
       " 'good',\n",
       " 'healthy',\n",
       " 'holy',\n",
       " 'honest',\n",
       " 'imitate',\n",
       " 'incorrect',\n",
       " 'information',\n",
       " 'intelligence',\n",
       " 'investigation',\n",
       " 'knowledge',\n",
       " 'lab',\n",
       " 'learn',\n",
       " 'logic',\n",
       " 'logical',\n",
       " 'look',\n",
       " 'method',\n",
       " 'obey',\n",
       " 'pay',\n",
       " 'procedure',\n",
       " 'process',\n",
       " 'proof',\n",
       " 'question',\n",
       " 'read',\n",
       " 'real',\n",
       " 'reason',\n",
       " 'research',\n",
       " 'right',\n",
       " 'science',\n",
       " 'scientific',\n",
       " 'search',\n",
       " 'show',\n",
       " 'sing',\n",
       " 'smooth',\n",
       " 'speak',\n",
       " 'statistics',\n",
       " 'straight',\n",
       " 'study',\n",
       " 'teach',\n",
       " 'tell',\n",
       " 'trial',\n",
       " 'true',\n",
       " 'truth',\n",
       " 'truthful',\n",
       " 'understand',\n",
       " 'visible',\n",
       " 'weigh',\n",
       " 'yes'}"
      ]
     },
     "execution_count": 39,
     "metadata": {},
     "output_type": "execute_result"
    }
   ],
   "source": [
    "evidence_set"
   ]
  },
  {
   "cell_type": "code",
   "execution_count": 40,
   "id": "5f71a498",
   "metadata": {},
   "outputs": [],
   "source": [
    "evidence_set_final = {\n",
    "'accurate',\n",
    " 'admit',\n",
    " 'analysis',\n",
    " 'announce',\n",
    " #'answer',\n",
    " 'argument',\n",
    " 'article',\n",
    " #'ask',\n",
    " #'beautiful',\n",
    " 'calculate',\n",
    " #'call',\n",
    " #'call by name',\n",
    " 'certain',\n",
    " 'clear',\n",
    " #'come back',\n",
    " 'correct',\n",
    " 'counter-argument',\n",
    " 'data',\n",
    " 'education',\n",
    " 'evidence',\n",
    " 'exact',\n",
    " 'expert',\n",
    " 'explain',\n",
    " 'explore',\n",
    " 'fact',\n",
    " #'faithful',\n",
    " #'flat',\n",
    " #'give back',\n",
    " #'good',\n",
    " #'healthy',\n",
    " #'holy',\n",
    " #'honest',\n",
    " #'imitate',\n",
    " 'incorrect',\n",
    " 'information',\n",
    " 'intelligence',\n",
    " 'investigation',\n",
    " 'knowledge',\n",
    " 'lab',\n",
    " 'learn',\n",
    " 'logic',\n",
    " 'logical',\n",
    " #'look',\n",
    " 'method',\n",
    " #'obey',\n",
    " #'pay',\n",
    " 'procedure',\n",
    " 'process',\n",
    " 'proof',\n",
    " 'question',\n",
    " 'read',\n",
    " 'real',\n",
    " 'reason',\n",
    " 'research',\n",
    " #'right',\n",
    " 'science',\n",
    " 'scientific',\n",
    " #'search',\n",
    " #'show',\n",
    " #'sing',\n",
    " #'smooth',\n",
    " #'speak',\n",
    " 'statistics',\n",
    " #'straight',\n",
    " 'study',\n",
    " #'teach',\n",
    " #'tell',\n",
    " #'trial',\n",
    " 'true',\n",
    " 'truth',\n",
    " 'truthful',\n",
    " 'understand',\n",
    " #'visible',\n",
    " #'weigh',\n",
    " #'yes'\n",
    " }\n"
   ]
  },
  {
   "cell_type": "code",
   "execution_count": 41,
   "id": "21bd2ea4",
   "metadata": {},
   "outputs": [
    {
     "data": {
      "text/plain": [
       "45"
      ]
     },
     "execution_count": 41,
     "metadata": {},
     "output_type": "execute_result"
    }
   ],
   "source": [
    "len(evidence_set_final)"
   ]
  },
  {
   "cell_type": "code",
   "execution_count": 42,
   "id": "3f366686",
   "metadata": {},
   "outputs": [
    {
     "data": {
      "text/plain": [
       "{'adjudicate',\n",
       " 'advice',\n",
       " 'anxiety',\n",
       " 'belief',\n",
       " 'believe',\n",
       " 'belly',\n",
       " 'betray',\n",
       " 'conceive',\n",
       " 'deceit',\n",
       " 'dishonest',\n",
       " 'disinformation',\n",
       " 'distrust',\n",
       " 'doubt',\n",
       " 'dunno',\n",
       " 'fake',\n",
       " 'feel',\n",
       " 'feeling',\n",
       " 'genuine',\n",
       " 'guess',\n",
       " 'gut',\n",
       " 'idea',\n",
       " 'instinct',\n",
       " 'lie',\n",
       " 'measure',\n",
       " 'mind',\n",
       " 'mislead',\n",
       " 'mistaken',\n",
       " 'mistrust',\n",
       " 'opinion',\n",
       " 'perjury',\n",
       " 'perspective',\n",
       " 'phony',\n",
       " 'propaganda',\n",
       " 'remember',\n",
       " 'see',\n",
       " 'sense',\n",
       " 'sleep',\n",
       " 'suggest',\n",
       " 'suggestion',\n",
       " 'suppose',\n",
       " 'suspect',\n",
       " 'suspicion',\n",
       " 'think',\n",
       " 'thought',\n",
       " 'untruthful',\n",
       " 'view',\n",
       " 'viewpoint',\n",
       " 'want',\n",
       " 'wrong'}"
      ]
     },
     "execution_count": 42,
     "metadata": {},
     "output_type": "execute_result"
    }
   ],
   "source": [
    "intuition_set"
   ]
  },
  {
   "cell_type": "code",
   "execution_count": 43,
   "id": "77a498c3",
   "metadata": {},
   "outputs": [],
   "source": [
    "intuition_set_final ={\n",
    " #'adjudicate',\n",
    " 'advice',\n",
    " #'anxiety',\n",
    " #'belief',\n",
    " 'believe',\n",
    " #'belly',\n",
    " #'betray',\n",
    " 'conceive',\n",
    " #'deceit',\n",
    " #'dishonest',\n",
    " #'disinformation',\n",
    " #'distrust',\n",
    " 'doubt',\n",
    " 'dunno',\n",
    " 'fake',\n",
    " 'feel',\n",
    " 'feeling',\n",
    " 'genuine',\n",
    " 'guess',\n",
    " 'gut',\n",
    " 'idea',\n",
    " 'instinct',\n",
    " #'lie',\n",
    " #'measure',\n",
    " 'mind',\n",
    " #'mislead',\n",
    " #'mistaken',\n",
    " #'mistrust',\n",
    " 'opinion',\n",
    " #'perjury',\n",
    " 'perspective',\n",
    " #'phony',\n",
    " #'propaganda',\n",
    " 'remember',\n",
    " #'see',\n",
    " #'sense',\n",
    " #'sleep',\n",
    " 'suggest',\n",
    " 'suggestion',\n",
    " 'suppose',\n",
    " 'suspect',\n",
    " 'suspicion',\n",
    " 'think',\n",
    " 'thought',\n",
    " #'untruthful',\n",
    " 'view',\n",
    " 'viewpoint',\n",
    " #'want',\n",
    " #'wrong'\n",
    " }"
   ]
  },
  {
   "cell_type": "code",
   "execution_count": 44,
   "id": "a21d2050",
   "metadata": {},
   "outputs": [
    {
     "data": {
      "text/plain": [
       "26"
      ]
     },
     "execution_count": 44,
     "metadata": {},
     "output_type": "execute_result"
    }
   ],
   "source": [
    "len(intuition_set_final)"
   ]
  },
  {
   "cell_type": "code",
   "execution_count": 55,
   "id": "90d5d3c6",
   "metadata": {},
   "outputs": [],
   "source": [
    "import pickle\n",
    "\n",
    "# Save evidence set\n",
    "with open(\"evidence_set_final.pkl\", \"wb\") as f:\n",
    "    pickle.dump(evidence_set_final, f)\n",
    "\n",
    "# Save intuition set\n",
    "with open(\"intuition_set_final.pkl\", \"wb\") as g:\n",
    "    pickle.dump(intuition_set_final, g)"
   ]
  },
  {
   "cell_type": "markdown",
   "id": "017f0a7c",
   "metadata": {},
   "source": [
    "## Train word2vec for EMI with new dictionary"
   ]
  },
  {
   "cell_type": "code",
   "execution_count": 45,
   "id": "bf36f40b",
   "metadata": {},
   "outputs": [],
   "source": [
    "# train word2vec on samples \n",
    "from gensim.models import Word2Vec\n",
    "\n",
    "# get clean samples and train word2vec\n",
    "sentences = tldr_cleaned_sample['clean'] \n",
    "sentences.append(list(evidence_set_final))\n",
    "sentences.append(list(intuition_set_final)) \n",
    "model = Word2Vec(sentences=sentences, vector_size=300, window=5, min_count=1, workers=4)\n"
   ]
  },
  {
   "cell_type": "code",
   "execution_count": 46,
   "id": "2d97b137",
   "metadata": {},
   "outputs": [],
   "source": [
    "model.save(\"word2vec_tldr_dict.model\")"
   ]
  },
  {
   "cell_type": "markdown",
   "id": "ea6dedfb",
   "metadata": {},
   "source": [
    "### Compute evidence and inutition cosine similarity"
   ]
  },
  {
   "cell_type": "code",
   "execution_count": 47,
   "id": "943ae444",
   "metadata": {},
   "outputs": [],
   "source": [
    "# average the vectors per post to calculate similarity to evidence and intuition vectors\n",
    "def get_avg_vectors(tokens, model):\n",
    "    \n",
    "    # Filter tokens that are in the model's vocabulary\n",
    "    valid_tokens = [token for token in tokens if token in model.wv]\n",
    "    \n",
    "    if not valid_tokens:\n",
    "        return [], [np.zeros(model.vector_size)* len(tokens)] ,np.zeros(model.vector_size)  # Return a zero vector if no valid tokens\n",
    "    \n",
    "    # Get vectors for the valid tokens\n",
    "    word_vectors = np.array([model.wv[token] for token in valid_tokens])\n",
    "    \n",
    "    # Compute the average of word vectors\n",
    "    avg_vector = np.mean(word_vectors, axis=0)\n",
    "    return valid_tokens, word_vectors, avg_vector"
   ]
  },
  {
   "cell_type": "code",
   "execution_count": 48,
   "id": "24fa65c3",
   "metadata": {},
   "outputs": [],
   "source": [
    "# cosine similarity for map\n",
    "def cosine_similarity(vec1, vec2):\n",
    "    dot_product = np.dot(vec1, vec2)\n",
    "    norm_a = np.linalg.norm(vec1)\n",
    "    norm_b = np.linalg.norm(vec2)\n",
    "    \n",
    "    if norm_a == 0 or norm_b == 0:\n",
    "        return 0.0  # Avoid division by zero\n",
    "    \n",
    "    return dot_product / (norm_a * norm_b)"
   ]
  },
  {
   "cell_type": "code",
   "execution_count": 49,
   "id": "a6e8a820",
   "metadata": {},
   "outputs": [],
   "source": [
    "# get evidence and intuition vector \n",
    "valid_evidence, evidence_vectors, evidence_vector = get_avg_vectors(evidence_list, model)\n",
    "valid_intuition, inuition_vectors, intuition_vector = get_avg_vectors(intuition_list, model)\n"
   ]
  },
  {
   "cell_type": "code",
   "execution_count": 50,
   "id": "9c89adbd",
   "metadata": {},
   "outputs": [],
   "source": [
    "# get the evidence and intuition similarity\n",
    "def compute_scores(example, col = \"clean\", suffix = ''):\n",
    "    _, _, avg_vec = get_avg_vectors(example[col], model)\n",
    "    avg_vec= avg_vec.astype(np.float32)\n",
    "\n",
    "    evidence_sim = np.float32(cosine_similarity(avg_vec, evidence_vector))\n",
    "    intuition_sim = np.float32(cosine_similarity(avg_vec, intuition_vector))\n",
    "\n",
    "    example[f\"avg_vec{suffix}\"] = avg_vec\n",
    "    example[f\"evidence_sim{suffix}\"] = evidence_sim\n",
    "    example[f\"intuition_sim{suffix}\"] = intuition_sim\n",
    "    return example\n",
    "\n",
    "def compute_score_wrapper(input_col=\"clean\", suffix = ''):\n",
    "    return lambda example: compute_scores(example, col=input_col, suffix=suffix)"
   ]
  },
  {
   "cell_type": "code",
   "execution_count": null,
   "id": "b27fd511",
   "metadata": {},
   "outputs": [
    {
     "name": "stderr",
     "output_type": "stream",
     "text": [
      "Map: 100%|██████████| 615392/615392 [11:46<00:00, 870.54 examples/s]  \n",
      "Map: 100%|██████████| 615392/615392 [08:31<00:00, 1202.51 examples/s]\n"
     ]
    }
   ],
   "source": [
    "# Map without batching\n",
    "tldr_cleaned_sample = tldr_cleaned_sample.map(compute_score_wrapper(input_col=\"clean\", suffix='_dict'), batched=False)\n",
    "\n",
    "# binning \n",
    "lengths = [len(post['clean']) for post in tldr_cleaned_sample]\n",
    "\n",
    "# bins only lengths\n",
    "bin_edges = pd.qcut(lengths, q=9, retbins=True, labels=False, duplicates='drop')[1]\n",
    "\n",
    "# function to assign bin no to post \n",
    "def assign_bin(example): \n",
    "    length = len(example['clean'])\n",
    "    bin_index = np.digitize(length, bin_edges, right=True) \n",
    "    return {\"length_bin_dict\": int(bin_index)}\n",
    "\n",
    "tldr_cleaned_sample = tldr_cleaned_sample.map(assign_bin)"
   ]
  },
  {
   "cell_type": "code",
   "execution_count": 52,
   "id": "1ecd016a",
   "metadata": {},
   "outputs": [
    {
     "name": "stderr",
     "output_type": "stream",
     "text": [
      "Filter: 100%|██████████| 615392/615392 [05:58<00:00, 1714.96 examples/s]\n",
      "Filter: 100%|██████████| 615392/615392 [06:07<00:00, 1676.37 examples/s]\n",
      "Filter: 100%|██████████| 615392/615392 [07:34<00:00, 1355.38 examples/s] \n",
      "Filter: 100%|██████████| 615392/615392 [07:15<00:00, 1412.62 examples/s] \n",
      "Filter: 100%|██████████| 615392/615392 [06:59<00:00, 1467.85 examples/s]\n",
      "Filter: 100%|██████████| 615392/615392 [06:11<00:00, 1658.29 examples/s]\n",
      "Filter: 100%|██████████| 615392/615392 [06:42<00:00, 1527.32 examples/s]\n",
      "Filter: 100%|██████████| 615392/615392 [07:20<00:00, 1396.76 examples/s]\n",
      "Filter: 100%|██████████| 615392/615392 [05:47<00:00, 1771.58 examples/s]\n",
      "Filter: 100%|██████████| 615392/615392 [06:15<00:00, 1640.88 examples/s]\n"
     ]
    }
   ],
   "source": [
    "bin_stats = {}\n",
    "\n",
    "for bin_id in sorted(set(tldr_cleaned_sample[\"length_bin_dict\"])):\n",
    "    bin_data = tldr_cleaned_sample.filter(lambda x: x[\"length_bin_dict\"] == bin_id)\n",
    "    \n",
    "    evidence_values = bin_data[\"evidence_sim_dict\"]\n",
    "    intuition_values = bin_data[\"intuition_sim_dict\"]\n",
    "    \n",
    "    stats = {\n",
    "        \"evidence_sim_mean_dict\": np.mean(evidence_values),\n",
    "        \"evidence_sim_std_dict\": np.std(evidence_values, ddof=1),  \n",
    "        \"intuition_sim_mean_dict\": np.mean(intuition_values),\n",
    "        \"intuition_sim_std_dict\": np.std(intuition_values, ddof=1),  \n",
    "    }\n",
    "    \n",
    "    bin_stats[bin_id] = stats"
   ]
  },
  {
   "cell_type": "code",
   "execution_count": 53,
   "id": "8d529e21",
   "metadata": {},
   "outputs": [
    {
     "name": "stderr",
     "output_type": "stream",
     "text": [
      "Map:   0%|          | 0/615392 [00:00<?, ? examples/s]C:\\Users\\Estelle\\AppData\\Local\\Temp\\ipykernel_16628\\114329150.py:6: RuntimeWarning: invalid value encountered in scalar divide\n",
      "  z_evidence = (example['evidence_sim_dict'] - stats['evidence_sim_mean_dict']) / stats['evidence_sim_std_dict'] + 1e-20\n",
      "C:\\Users\\Estelle\\AppData\\Local\\Temp\\ipykernel_16628\\114329150.py:7: RuntimeWarning: invalid value encountered in scalar divide\n",
      "  z_intuition = (example['intuition_sim_dict'] - stats['intuition_sim_mean_dict']) / stats['intuition_sim_std_dict'] + 1e-20\n",
      "Map: 100%|██████████| 615392/615392 [04:53<00:00, 2096.81 examples/s]\n"
     ]
    }
   ],
   "source": [
    "def center_by_bin(example):\n",
    "    bin_id = example['length_bin_dict']\n",
    "    stats = bin_stats[bin_id]\n",
    "\n",
    "    # Compute z-scores\n",
    "    z_evidence = (example['evidence_sim_dict'] - stats['evidence_sim_mean_dict']) / stats['evidence_sim_std_dict'] + 1e-20\n",
    "    z_intuition = (example['intuition_sim_dict'] - stats['intuition_sim_mean_dict']) / stats['intuition_sim_std_dict'] + 1e-20\n",
    "    \n",
    "    emi = z_evidence - z_intuition\n",
    "    \n",
    "    return {\n",
    "        'z_evidence_dict': z_evidence,\n",
    "        'z_intuition_dict': z_intuition,\n",
    "        'emi_dict': emi\n",
    "    }\n",
    "\n",
    "tldr_cleaned_sample = tldr_cleaned_sample.map(center_by_bin)"
   ]
  },
  {
   "cell_type": "code",
   "execution_count": 54,
   "id": "fb195941",
   "metadata": {},
   "outputs": [
    {
     "name": "stderr",
     "output_type": "stream",
     "text": [
      "Saving the dataset (16/16 shards): 100%|██████████| 615392/615392 [00:21<00:00, 28303.38 examples/s]\n"
     ]
    }
   ],
   "source": [
    "tldr_cleaned_sample.save_to_disk('tldr_cleaned_sample_dict')"
   ]
  }
 ],
 "metadata": {
  "kernelspec": {
   "display_name": "docana",
   "language": "python",
   "name": "python3"
  },
  "language_info": {
   "codemirror_mode": {
    "name": "ipython",
    "version": 3
   },
   "file_extension": ".py",
   "mimetype": "text/x-python",
   "name": "python",
   "nbconvert_exporter": "python",
   "pygments_lexer": "ipython3",
   "version": "3.9.21"
  }
 },
 "nbformat": 4,
 "nbformat_minor": 5
}
